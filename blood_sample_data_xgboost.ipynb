{
  "nbformat": 4,
  "nbformat_minor": 0,
  "metadata": {
    "kernelspec": {
      "display_name": "Python 3",
      "language": "python",
      "name": "python3"
    },
    "language_info": {
      "codemirror_mode": {
        "name": "ipython",
        "version": 3
      },
      "file_extension": ".py",
      "mimetype": "text/x-python",
      "name": "python",
      "nbconvert_exporter": "python",
      "pygments_lexer": "ipython3",
      "version": "3.6.9"
    },
    "colab": {
      "name": "covid19_symptoms.ipynb",
      "provenance": []
    },
    "accelerator": "GPU"
  },
  "cells": [
    {
      "cell_type": "code",
      "metadata": {
        "id": "iEDaaMVxrebC",
        "colab_type": "code",
        "colab": {}
      },
      "source": [
        "import pandas as pd\n",
        "from sklearn.model_selection import StratifiedShuffleSplit\n",
        "from xgboost import XGBClassifier\n",
        "from sklearn.metrics import accuracy_score,recall_score,roc_auc_score,recall_score\n",
        "from numpy import mean\n",
        "from sklearn.datasets import make_classification\n",
        "from sklearn.model_selection import cross_val_score,train_test_split\n",
        "from sklearn.model_selection import RepeatedStratifiedKFold,GridSearchCV\n",
        "from sklearn.pipeline import make_pipeline\n",
        "from sklearn.feature_extraction import DictVectorizer\n",
        "from xgboost import XGBClassifier\n",
        "import numpy as np\n",
        "from sklearn.preprocessing import LabelEncoder\n",
        "from matplotlib import pyplot"
      ],
      "execution_count": null,
      "outputs": []
    },
    {
      "cell_type": "code",
      "metadata": {
        "id": "FAWq6gxPrebH",
        "colab_type": "code",
        "colab": {}
      },
      "source": [
        "data=pd.read_csv('cleaned.csv') \n",
        "data=data.fillna(data.mean())\n",
        "le=LabelEncoder()\n",
        "le.fit(data['SARS-Cov-2 exam result'])\n",
        "data['SARS-Cov-2 exam result']=le.transform(data['SARS-Cov-2 exam result'])"
      ],
      "execution_count": null,
      "outputs": []
    },
    {
      "cell_type": "code",
      "metadata": {
        "id": "st_Vfs8yrebK",
        "colab_type": "code",
        "colab": {}
      },
      "source": [
        "X=data.drop('SARS-Cov-2 exam result',axis=1)\n",
        "X=X.astype(np.float64)\n",
        "y=data['SARS-Cov-2 exam result']"
      ],
      "execution_count": null,
      "outputs": []
    },
    {
      "cell_type": "code",
      "metadata": {
        "id": "7fW4timCrebN",
        "colab_type": "code",
        "colab": {}
      },
      "source": [
        "_X=X.astype(np.float32)\n",
        "_y=y.astype(np.float32)"
      ],
      "execution_count": null,
      "outputs": []
    },
    {
      "cell_type": "code",
      "metadata": {
        "id": "r3BhnH_PrebQ",
        "colab_type": "code",
        "colab": {
          "base_uri": "https://localhost:8080/",
          "height": 119
        },
        "outputId": "173a67a0-3661-4bac-9d52-da70659932ca"
      },
      "source": [
        "y.head()"
      ],
      "execution_count": null,
      "outputs": [
        {
          "output_type": "execute_result",
          "data": {
            "text/plain": [
              "0    0\n",
              "1    0\n",
              "2    0\n",
              "3    0\n",
              "4    0\n",
              "Name: SARS-Cov-2 exam result, dtype: int64"
            ]
          },
          "metadata": {
            "tags": []
          },
          "execution_count": 17
        }
      ]
    },
    {
      "cell_type": "code",
      "metadata": {
        "id": "bgpx9qRXrebU",
        "colab_type": "code",
        "colab": {
          "base_uri": "https://localhost:8080/",
          "height": 34
        },
        "outputId": "3f48e8df-5722-4a07-819b-364c94b67139"
      },
      "source": [
        "train_X, test_X, train_y, test_y = train_test_split(X, y, test_size=0.25, random_state=42)\n",
        "param_test1 = {\n",
        "    'max_depth':range(3,10,2),\n",
        "    'min_child_weight':range(1,6,2)\n",
        "}\n",
        "gsearch1 = GridSearchCV(estimator = XGBClassifier( learning_rate =0.1, \n",
        "                                                  n_estimators=1000, \n",
        "                                                  max_depth=5,\n",
        "                                                  min_child_weight=1,\n",
        "                                                  gamma=0, \n",
        "                                                  subsample=0.8, \n",
        "                                                  colsample_bytree=0.8,\n",
        "                                                  objective= 'binary:logistic', nthread=4, scale_pos_weight=7.26, seed=27), \n",
        "                        param_grid = param_test1, \n",
        "                        scoring='accuracy',\n",
        "                        n_jobs=4,\n",
        "                        cv=5)\n",
        "\n",
        "gsearch1.fit(train_X,train_y)\n",
        "gsearch1.best_params_, gsearch1.best_score_"
      ],
      "execution_count": null,
      "outputs": [
        {
          "output_type": "execute_result",
          "data": {
            "text/plain": [
              "({'max_depth': 3, 'min_child_weight': 1}, 0.8582905982905983)"
            ]
          },
          "metadata": {
            "tags": []
          },
          "execution_count": 18
        }
      ]
    },
    {
      "cell_type": "code",
      "metadata": {
        "id": "kXQotE1JrebX",
        "colab_type": "code",
        "colab": {
          "base_uri": "https://localhost:8080/",
          "height": 34
        },
        "outputId": "6c5a5fce-c003-413c-d58e-8014b3225cf9"
      },
      "source": [
        "param_test2 = { \n",
        "    'gamma':[i/10.0 for i in range(0,5)] \n",
        "}\n",
        "gsearch3 = GridSearchCV(estimator = XGBClassifier( learning_rate =0.1, \n",
        "                                                  n_estimators=1000, \n",
        "                                                  max_depth = 7,\n",
        "                                                  min_child_weight = 1,\n",
        "                                                  gamma=0, subsample=0.8, colsample_bytree=0.8,\n",
        "                                                  objective= 'binary:logistic', nthread=4, scale_pos_weight=7.26,seed=27), \n",
        "                        param_grid = param_test2, \n",
        "                        scoring='accuracy',\n",
        "                        n_jobs=4,\n",
        "                        cv=5)\n",
        "\n",
        "gsearch3.fit(train_X,train_y)\n",
        "gsearch3.best_params_, gsearch3.best_score_"
      ],
      "execution_count": null,
      "outputs": [
        {
          "output_type": "execute_result",
          "data": {
            "text/plain": [
              "({'gamma': 0.3}, 0.8671550671550671)"
            ]
          },
          "metadata": {
            "tags": []
          },
          "execution_count": 19
        }
      ]
    },
    {
      "cell_type": "code",
      "metadata": {
        "id": "xJf7aCafrebb",
        "colab_type": "code",
        "colab": {
          "base_uri": "https://localhost:8080/",
          "height": 34
        },
        "outputId": "8f50d09b-e6c3-44ef-ba3f-0fc33c35035e"
      },
      "source": [
        "param_test3 = {\n",
        "    'subsample':[i/10.0 for i in range(6,10)],\n",
        "    'colsample_bytree':[i/10.0 for i in range(6,10)]\n",
        "}\n",
        "gsearch4 = GridSearchCV(estimator = XGBClassifier(learning_rate =0.1, n_estimators=1000, \n",
        "                                                  max_depth = 7,\n",
        "                                                  min_child_weight = 1,\n",
        "                                                  gamma=0.2, \n",
        "                                                  subsample=0.8, colsample_bytree=0.8,\n",
        "                                                  objective= 'binary:logistic', nthread=4, scale_pos_weight=7.26,seed=27), \n",
        "                        param_grid = param_test3, \n",
        "                        scoring='accuracy',\n",
        "                        n_jobs=4,\n",
        "                        cv=5)\n",
        "\n",
        "gsearch4.fit(train_X,train_y)\n",
        "gsearch4.best_params_, gsearch4.best_score_"
      ],
      "execution_count": null,
      "outputs": [
        {
          "output_type": "execute_result",
          "data": {
            "text/plain": [
              "({'colsample_bytree': 0.7, 'subsample': 0.9}, 0.8737728937728937)"
            ]
          },
          "metadata": {
            "tags": []
          },
          "execution_count": 20
        }
      ]
    },
    {
      "cell_type": "code",
      "metadata": {
        "id": "PTHCdHpZrebe",
        "colab_type": "code",
        "colab": {
          "base_uri": "https://localhost:8080/",
          "height": 34
        },
        "outputId": "2f962432-f5e9-48e5-a227-ecb63be91173"
      },
      "source": [
        "# On réduit --- \n",
        "param_test4 = {\n",
        " 'learning_rate':[i/1000.0 for i in range(5,20,2)]\n",
        "}\n",
        "gsearch6 = GridSearchCV(estimator = XGBClassifier(learning_rate =0.1, \n",
        "                                                  n_estimators=1000, \n",
        "                                                  gamma=0.2,\n",
        "                                                  subsample=0.8,\n",
        "                                                  colsample_bytree=0.8,\n",
        "                                                  max_depth = 7,\n",
        "                                                  min_child_weight = 1,\n",
        "                                                  objective= 'binary:logistic', nthread=4, scale_pos_weight=7.26,seed=27), \n",
        "                        param_grid = param_test4, \n",
        "                        scoring='accuracy',\n",
        "                        n_jobs=4,\n",
        "                        cv=5)\n",
        "\n",
        "gsearch6.fit(train_X,train_y)\n",
        "gsearch6.best_params_, gsearch6.best_score_"
      ],
      "execution_count": null,
      "outputs": [
        {
          "output_type": "execute_result",
          "data": {
            "text/plain": [
              "({'learning_rate': 0.005}, 0.884932844932845)"
            ]
          },
          "metadata": {
            "tags": []
          },
          "execution_count": 21
        }
      ]
    },
    {
      "cell_type": "code",
      "metadata": {
        "id": "17Sul0eXrebg",
        "colab_type": "code",
        "colab": {
          "base_uri": "https://localhost:8080/",
          "height": 85
        },
        "outputId": "18486d14-65a8-49fe-dfe2-148ee9d7c449"
      },
      "source": [
        "\n",
        "'''\n",
        "After extensive testing the following parameters were found to produce the best accuracy and recall combination\n",
        "max_depth :- 3\n",
        "min_child_weight :- 3\n",
        "gamma :- 0.3\n",
        "colsample_bytree :- 0.7\n",
        "subsample :- 0.8\n",
        "learning_rate :- 0.005\n",
        "scale_pos_weight :- 7.26(ratio between positive and negative samples)\n",
        "'''\n",
        "model = XGBClassifier(\n",
        "    learning_rate =0.005,\n",
        "    n_estimators=500,\n",
        "    max_depth = 3,\n",
        "    min_child_weight = 3,\n",
        "    gamma=0.3,\n",
        "    subsample=0.7,\n",
        "    colsample_bytree=0.8,\n",
        "    reg_alpha=0.005,\n",
        "    objective= 'binary:logistic',\n",
        "    nthread=4,\n",
        "    scale_pos_weight=7.26,\n",
        "    seed=27\n",
        ")\n",
        "cv = RepeatedStratifiedKFold(n_splits=4, n_repeats=3, random_state=52)\n",
        "scores_roc = cross_val_score(model, X, y, scoring='roc_auc', cv=cv, n_jobs=-1)\n",
        "scores_recall = cross_val_score(model, X, y, scoring='recall', cv=cv, n_jobs=-1)\n",
        "scores_accuracy = cross_val_score(model, X, y, scoring='accuracy', cv=cv, n_jobs=-1)\n",
        "print('Mean roc',mean(scores_roc))\n",
        "print('Mean recall',mean(scores_recall))\n",
        "print('Mean accuracy',mean(scores_accuracy))\n",
        "print('Positive Samples :- {} Negative Samples :- {}'.format(len(y[y==1]),len(y)))"
      ],
      "execution_count": null,
      "outputs": [
        {
          "output_type": "stream",
          "text": [
            "Mean roc 0.8906746031746032\n",
            "Mean recall 0.7386904761904763\n",
            "Mean accuracy 0.8424540103016924\n",
            "Positive Samples :- 83 Negative Samples :- 603\n"
          ],
          "name": "stdout"
        }
      ]
    },
    {
      "cell_type": "code",
      "metadata": {
        "id": "x5FdYT6orebj",
        "colab_type": "code",
        "colab": {
          "base_uri": "https://localhost:8080/",
          "height": 136
        },
        "outputId": "d8731ba3-1c4e-4215-99d4-ba1bb1db349c"
      },
      "source": [
        "#Final Model\n",
        "model = XGBClassifier(\n",
        "    learning_rate =0.005,\n",
        "    n_estimators=1000,\n",
        "    max_depth = 3,\n",
        "    min_child_weight = 3,\n",
        "    gamma=0.3,\n",
        "    subsample=0.7,\n",
        "    colsample_bytree=0.8,\n",
        "    reg_alpha=0.005,\n",
        "    objective= 'binary:logistic',\n",
        "    nthread=4,\n",
        "    scale_pos_weight=7.26,\n",
        "    seed=27\n",
        ")\n",
        "model.fit(X,y)"
      ],
      "execution_count": null,
      "outputs": [
        {
          "output_type": "execute_result",
          "data": {
            "text/plain": [
              "XGBClassifier(base_score=0.5, booster='gbtree', colsample_bylevel=1,\n",
              "              colsample_bynode=1, colsample_bytree=0.8, gamma=0.3,\n",
              "              learning_rate=0.005, max_delta_step=0, max_depth=3,\n",
              "              min_child_weight=3, missing=None, n_estimators=1000, n_jobs=1,\n",
              "              nthread=4, objective='binary:logistic', random_state=0,\n",
              "              reg_alpha=0.005, reg_lambda=1, scale_pos_weight=7.26, seed=27,\n",
              "              silent=None, subsample=0.7, verbosity=1)"
            ]
          },
          "metadata": {
            "tags": []
          },
          "execution_count": 23
        }
      ]
    },
    {
      "cell_type": "code",
      "metadata": {
        "id": "OhdVfWXjrebm",
        "colab_type": "code",
        "colab": {
          "base_uri": "https://localhost:8080/",
          "height": 882
        },
        "outputId": "6086b585-1b79-47ec-a741-b653de07c5e7"
      },
      "source": [
        "booster=model.get_booster()\n",
        "print(booster.get_dump()[0])\n",
        "ls=list(model.feature_importances_)\n",
        "print(ls)\n",
        "features=pd.DataFrame({\n",
        "    'Feature_Name':X.columns,\n",
        "    'Feature_Import':ls,\n",
        "})\n",
        "features.sort_values(by=['Feature_Import'],inplace=True,ascending=False)\n",
        "features"
      ],
      "execution_count": null,
      "outputs": [
        {
          "output_type": "stream",
          "text": [
            "0:[Leukocytes<-0.491158187] yes=1,no=2,missing=1\n",
            "\t1:[Mean platelet volume <-0.942966223] yes=3,no=4,missing=3\n",
            "\t\t3:leaf=-0.00817727204\n",
            "\t\t4:[Basophils<0.53988117] yes=7,no=8,missing=7\n",
            "\t\t\t7:leaf=0.00731905317\n",
            "\t\t\t8:leaf=-0.00045356687\n",
            "\t2:[Eosinophils<-0.645880461] yes=5,no=6,missing=5\n",
            "\t\t5:[Platelets<0.525217175] yes=9,no=10,missing=9\n",
            "\t\t\t9:leaf=0.00313292257\n",
            "\t\t\t10:leaf=-0.00866333302\n",
            "\t\t6:[Platelets<-1.09525633] yes=11,no=12,missing=11\n",
            "\t\t\t11:leaf=0.00138376397\n",
            "\t\t\t12:leaf=-0.00904118735\n",
            "\n",
            "[0.050192274, 0.064600855, 0.034780618, 0.059806336, 0.053749274, 0.044975977, 0.09875116, 0.04179627, 0.051394388, 0.048176672, 0.03335774, 0.13064466, 0.039756574, 0.041565433, 0.08162178, 0.038814254, 0.05859377, 0.027421916]\n"
          ],
          "name": "stdout"
        },
        {
          "output_type": "execute_result",
          "data": {
            "text/html": [
              "<div>\n",
              "<style scoped>\n",
              "    .dataframe tbody tr th:only-of-type {\n",
              "        vertical-align: middle;\n",
              "    }\n",
              "\n",
              "    .dataframe tbody tr th {\n",
              "        vertical-align: top;\n",
              "    }\n",
              "\n",
              "    .dataframe thead th {\n",
              "        text-align: right;\n",
              "    }\n",
              "</style>\n",
              "<table border=\"1\" class=\"dataframe\">\n",
              "  <thead>\n",
              "    <tr style=\"text-align: right;\">\n",
              "      <th></th>\n",
              "      <th>Feature_Name</th>\n",
              "      <th>Feature_Import</th>\n",
              "    </tr>\n",
              "  </thead>\n",
              "  <tbody>\n",
              "    <tr>\n",
              "      <th>11</th>\n",
              "      <td>Leukocytes</td>\n",
              "      <td>0.130645</td>\n",
              "    </tr>\n",
              "    <tr>\n",
              "      <th>6</th>\n",
              "      <td>Platelets</td>\n",
              "      <td>0.098751</td>\n",
              "    </tr>\n",
              "    <tr>\n",
              "      <th>14</th>\n",
              "      <td>Eosinophils</td>\n",
              "      <td>0.081622</td>\n",
              "    </tr>\n",
              "    <tr>\n",
              "      <th>1</th>\n",
              "      <td>Patient addmited to regular ward (1=yes, 0=no)</td>\n",
              "      <td>0.064601</td>\n",
              "    </tr>\n",
              "    <tr>\n",
              "      <th>3</th>\n",
              "      <td>Patient addmited to intensive care unit (1=yes...</td>\n",
              "      <td>0.059806</td>\n",
              "    </tr>\n",
              "    <tr>\n",
              "      <th>16</th>\n",
              "      <td>Monocytes</td>\n",
              "      <td>0.058594</td>\n",
              "    </tr>\n",
              "    <tr>\n",
              "      <th>4</th>\n",
              "      <td>Hematocrit</td>\n",
              "      <td>0.053749</td>\n",
              "    </tr>\n",
              "    <tr>\n",
              "      <th>8</th>\n",
              "      <td>Red blood Cells</td>\n",
              "      <td>0.051394</td>\n",
              "    </tr>\n",
              "    <tr>\n",
              "      <th>0</th>\n",
              "      <td>Patient age quantile</td>\n",
              "      <td>0.050192</td>\n",
              "    </tr>\n",
              "    <tr>\n",
              "      <th>9</th>\n",
              "      <td>Lymphocytes</td>\n",
              "      <td>0.048177</td>\n",
              "    </tr>\n",
              "    <tr>\n",
              "      <th>5</th>\n",
              "      <td>Hemoglobin</td>\n",
              "      <td>0.044976</td>\n",
              "    </tr>\n",
              "    <tr>\n",
              "      <th>7</th>\n",
              "      <td>Mean platelet volume</td>\n",
              "      <td>0.041796</td>\n",
              "    </tr>\n",
              "    <tr>\n",
              "      <th>13</th>\n",
              "      <td>Mean corpuscular hemoglobin (MCH)</td>\n",
              "      <td>0.041565</td>\n",
              "    </tr>\n",
              "    <tr>\n",
              "      <th>12</th>\n",
              "      <td>Basophils</td>\n",
              "      <td>0.039757</td>\n",
              "    </tr>\n",
              "    <tr>\n",
              "      <th>15</th>\n",
              "      <td>Mean corpuscular volume (MCV)</td>\n",
              "      <td>0.038814</td>\n",
              "    </tr>\n",
              "    <tr>\n",
              "      <th>2</th>\n",
              "      <td>Patient addmited to semi-intensive unit (1=yes...</td>\n",
              "      <td>0.034781</td>\n",
              "    </tr>\n",
              "    <tr>\n",
              "      <th>10</th>\n",
              "      <td>Mean corpuscular hemoglobin concentration (MCHC)</td>\n",
              "      <td>0.033358</td>\n",
              "    </tr>\n",
              "    <tr>\n",
              "      <th>17</th>\n",
              "      <td>Red blood cell distribution width (RDW)</td>\n",
              "      <td>0.027422</td>\n",
              "    </tr>\n",
              "  </tbody>\n",
              "</table>\n",
              "</div>"
            ],
            "text/plain": [
              "                                         Feature_Name  Feature_Import\n",
              "11                                         Leukocytes        0.130645\n",
              "6                                           Platelets        0.098751\n",
              "14                                        Eosinophils        0.081622\n",
              "1      Patient addmited to regular ward (1=yes, 0=no)        0.064601\n",
              "3   Patient addmited to intensive care unit (1=yes...        0.059806\n",
              "16                                          Monocytes        0.058594\n",
              "4                                          Hematocrit        0.053749\n",
              "8                                     Red blood Cells        0.051394\n",
              "0                                Patient age quantile        0.050192\n",
              "9                                         Lymphocytes        0.048177\n",
              "5                                          Hemoglobin        0.044976\n",
              "7                               Mean platelet volume         0.041796\n",
              "13                  Mean corpuscular hemoglobin (MCH)        0.041565\n",
              "12                                          Basophils        0.039757\n",
              "15                      Mean corpuscular volume (MCV)        0.038814\n",
              "2   Patient addmited to semi-intensive unit (1=yes...        0.034781\n",
              "10   Mean corpuscular hemoglobin concentration (MCHC)        0.033358\n",
              "17            Red blood cell distribution width (RDW)        0.027422"
            ]
          },
          "metadata": {
            "tags": []
          },
          "execution_count": 24
        }
      ]
    }
  ]
}